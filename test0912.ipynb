{
 "cells": [
  {
   "cell_type": "code",
   "execution_count": 1,
   "metadata": {},
   "outputs": [
    {
     "name": "stdout",
     "output_type": "stream",
     "text": [
      "hello\n"
     ]
    }
   ],
   "source": [
    "print(\"hello\")"
   ]
  },
  {
   "cell_type": "code",
   "execution_count": 6,
   "metadata": {},
   "outputs": [
    {
     "name": "stdout",
     "output_type": "stream",
     "text": [
      "이메일 주소가 맞습니다\n"
     ]
    }
   ],
   "source": [
    "#이멜 주소를 입력 받아 이멜 주소가 맞는지 확인\n",
    "\n",
    "#코드\n",
    "\n",
    "string = input(\"input e-mail\")\n",
    "\n",
    "if '@' in string:\n",
    "    print(\"이메일 주소가 맞습니다\")\n",
    "else:\n",
    "    print(\"이메일 주소가 형식이 바르지 않습니다\")\n"
   ]
  },
  {
   "cell_type": "code",
   "execution_count": 8,
   "metadata": {},
   "outputs": [
    {
     "name": "stdout",
     "output_type": "stream",
     "text": [
      "result = 5\n"
     ]
    }
   ],
   "source": [
    "#2 두 수의 사칙연산\n",
    "#if ~ else 사용\n",
    "\n",
    "num_a = int(input(\"input number_a : \"))\n",
    "num_b = int(input(\"input number_b : \"))\n",
    "op = input(\"input operator : \")\n",
    "\n",
    "if op == \"+\":\n",
    "    print(\"result =\", num_a + num_b)\n",
    "elif op == \"-\":\n",
    "    print(\"result =\", num_a - num_b)\n",
    "elif op == \"*\":\n",
    "    print(\"result =\", num_a * num_b)\n",
    "elif op == \"/\":\n",
    "    if num_b != 0:\n",
    "        print(\"result =\", num_a / num_b)\n",
    "    else:\n",
    "        print(\"나눗셈 연산 불가\")"
   ]
  },
  {
   "cell_type": "code",
   "execution_count": 11,
   "metadata": {},
   "outputs": [
    {
     "name": "stdout",
     "output_type": "stream",
     "text": [
      "주문수량 47 총금액 141000 할인금액 28200.0\n"
     ]
    }
   ],
   "source": [
    "#3 주문량을 입력받아 주문량에 따른 할인률을 적용하여 주문수량:qty, 총금액: tot_price, 할인금액:discount_price, 실제금액:net_price 를 출력하시오\n",
    "#상품의 가격 3,000원\n",
    "#할인률\n",
    "#10~29 10%\n",
    "#30~49 20%\n",
    "#50~99 30%\n",
    "#100개 이상 40%\n",
    "\n",
    "qty = int(input(\"주문 수량 입력 :\"))\n",
    "if 10 <= qty <= 29:\n",
    "    discount_rate = 0.1\n",
    "elif 30 <= qty <= 49:\n",
    "    discount_rate = 0.2\n",
    "elif 50 <= qty <= 99:\n",
    "    discount_rate = 0.3\n",
    "else:\n",
    "    discount_rate = 0.4\n",
    "tot_price = qty * 3000\n",
    "discount_price = tot_price * discount_rate\n",
    "net_price = tot_price - discount_price\n",
    "print(\"주문수량\", qty, \"총금액\", tot_price, \"할인금액\", discount_price)\n"
   ]
  },
  {
   "cell_type": "code",
   "execution_count": null,
   "metadata": {},
   "outputs": [],
   "source": [
    "#4 체중과 키를 입력받아 BMI 지수를 계산한 후\n",
    "#저체중(~18.5), 저체중(~18.5), 과체중(~24.9), 비만(25~)"
   ]
  }
 ],
 "metadata": {
  "kernelspec": {
   "display_name": "Python 3",
   "language": "python",
   "name": "python3"
  },
  "language_info": {
   "codemirror_mode": {
    "name": "ipython",
    "version": 3
   },
   "file_extension": ".py",
   "mimetype": "text/x-python",
   "name": "python",
   "nbconvert_exporter": "python",
   "pygments_lexer": "ipython3",
   "version": "3.12.2"
  }
 },
 "nbformat": 4,
 "nbformat_minor": 2
}
