{
 "cells": [
  {
   "cell_type": "markdown",
   "metadata": {},
   "source": [
    "#Q1. 키보드로 입력 받은 10진수의 값을 2진수로 변환하는 프로그램 작성"
   ]
  },
  {
   "cell_type": "code",
   "execution_count": null,
   "metadata": {},
   "outputs": [],
   "source": [
    "#10진수를 2진수로 변환     _nua\n",
    "\n",
    "def deci2bin(n):\n",
    "    binary = ' '\n",
    "\n",
    "    while (n > 0):\n",
    "      remainder = n % 2\n",
    "      n = n // 2\n",
    "      binary = str(remainder) + binary\n",
    "\n",
    "    return binary\n",
    "\n",
    "x = int(input(\"10진수: \"))\n",
    "print(\"10진수 :\", x)\n",
    "print(\"2진수 :\", deci2bin(x))"
   ]
  },
  {
   "cell_type": "markdown",
   "metadata": {},
   "source": [
    "#Q2. 주사위 값을 랜덤으로 인간, 컴퓨터 두개의 값을 생성 후 승패 결과를 출력\n",
    "##단, 프롬프트 메시지레 \"N\"를 입력할때 까지 반복"
   ]
  },
  {
   "cell_type": "code",
   "execution_count": null,
   "metadata": {},
   "outputs": [],
   "source": [
    "\n",
    "import random\n",
    "\n",
    "def dice_game() :\n",
    "  h = random.randint(1,6)\n",
    "  print(\"인간 : 주사위값 = \",h)\n",
    "\n",
    "  c = random.randint(1,6)\n",
    "  print(\"컴퓨터 : 주사위값 = \",c)\n",
    "\n",
    "  if h < c :\n",
    "    print(\"컴퓨터 승리\")\n",
    "  else:\n",
    "    print(\"인간 승리\")\n",
    "\n",
    "def main() :\n",
    "    while True:\n",
    "        user = input(\"중단할까요? Y/N\")\n",
    "        if user == \"Y\" or user == \"y\":\n",
    "            break;\n",
    "        dice_game()\n",
    "\n",
    "\n",
    "main()\n"
   ]
  },
  {
   "cell_type": "markdown",
   "metadata": {},
   "source": [
    "#Q3. 평문(문자열)을 입력 받아 암호문(시저 암호)과 복호문을 출력#"
   ]
  },
  {
   "cell_type": "code",
   "execution_count": null,
   "metadata": {},
   "outputs": [],
   "source": [
    "#평문 암호화\n",
    "\n",
    "##\n",
    "#\t이 프로그램은 시저 암호를 구현한다.\n",
    "#\n",
    "key = 'abcdefghijklmnopqrstuvwxyz'\n",
    "\n",
    "# 평문을 받아서 암호화하고 암호문을 반환한다.\n",
    "def encrypt(n, plaintext):\n",
    "\n",
    "\n",
    "\n",
    "\n",
    "\n",
    "\n",
    "\n",
    "\n",
    "    return result.lower()\n",
    "\n",
    "# 암호문을 받아서 복호화하고 평문을 반환한다.\n",
    "def decrypt(n, ciphertext):\n",
    "    result = ''\n",
    "\n",
    "    for l in ciphertext:\n",
    "\n",
    "\n",
    "\n",
    "\n",
    "\n",
    "\n",
    "\n",
    "\n",
    "          return result\n",
    "\n",
    "n = 3\n",
    "text = 'The language of truth is simple.'\n",
    "encrypted = encrypt(n, text)\n",
    "decrypted = decrypt(n, encrypted)\n",
    "print ('평문: ' ,  text)\n",
    "print ('암호문: ',  encrypted)\n",
    "print ('복호문: ' , decrypted)\n"
   ]
  },
  {
   "cell_type": "code",
   "execution_count": null,
   "metadata": {},
   "outputs": [],
   "source": [
    "import turtle as t\n",
    "\n",
    "window  = t.Screen()\n",
    "t.shape(\"turtle\")\n",
    "\n",
    "def draw_square(size):\n",
    "\n",
    "\n",
    "\n",
    "\n",
    "\n",
    "for i in range(10):\n",
    "\n",
    "\n",
    "\n",
    "\n",
    "window.exitonclick()"
   ]
  },
  {
   "cell_type": "code",
   "execution_count": null,
   "metadata": {},
   "outputs": [],
   "source": [
    "import turtle\n",
    "t = turtle.Turtle()\n",
    "t.shape(\"turtle\")\n",
    "\n",
    "def draw_line():\n",
    "\n",
    "\n",
    "\n",
    "\n",
    "\n",
    "\n",
    "for i in range(1, 13):\n",
    "    turtle.setheading( )\n",
    "\n",
    "\n",
    "turtle.mainloop()\n",
    "turtle.bye()"
   ]
  },
  {
   "cell_type": "code",
   "execution_count": null,
   "metadata": {},
   "outputs": [],
   "source": [
    "#터틀\n",
    "import turtle as t\n",
    "\n",
    "window = t.Screen() #윈도우 생성\n",
    "def draw_line():\n",
    "    t.forward(100) #앞으로\n",
    "    t.backward(100) #뒤로\n",
    "    t.setheading(30 * i)\n",
    "for i in range(1,13): #횟수\n",
    "    draw_line()\n",
    "window.exitonclick() #윈도우 닫기"
   ]
  }
 ],
 "metadata": {
  "language_info": {
   "name": "python"
  }
 },
 "nbformat": 4,
 "nbformat_minor": 2
}
