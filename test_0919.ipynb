{
 "cells": [
  {
   "cell_type": "code",
   "execution_count": 2,
   "metadata": {},
   "outputs": [
    {
     "name": "stdout",
     "output_type": "stream",
     "text": [
      "avg :  6.0\n"
     ]
    }
   ],
   "source": [
    "#while\n",
    "sum = 0\n",
    "n = int(input(\"숫자들의 개수 : \"))\n",
    "i = 1\n",
    "while i <= n :\n",
    "    num = int(input(\"평균을 계산할 숫자 입력 : \"))\n",
    "    i += 1\n",
    "    sum = sum + num\n",
    "avg = sum / n\n",
    "print(\"avg : \", avg)"
   ]
  },
  {
   "cell_type": "code",
   "execution_count": 3,
   "metadata": {},
   "outputs": [
    {
     "name": "stdout",
     "output_type": "stream",
     "text": [
      "입력된 점수 회수는 :  10 평균은 :  25.0\n"
     ]
    }
   ],
   "source": [
    "#점수를 입력 받아 총점과 평균을 계산하여 출력하시오\n",
    "#점수가 음수로 입력 되면 while문 종료\n",
    "\n",
    "sum = 0\n",
    "cnt = 0\n",
    "\n",
    "score = int(input(\"성적을 입력하시오 : \"))\n",
    "while score >= 0:\n",
    "  sum += score\n",
    "  cnt +=1\n",
    "  score = int(input(\"성적을 입력하시오: \"))\n",
    "\n",
    "  if cnt == 0:\n",
    "      average = 0\n",
    "  else:\n",
    "      average = sum / cnt\n",
    "\n",
    "print(\"입력된 점수 회수는 : \", cnt, \"평균은 : \", average)\n"
   ]
  },
  {
   "cell_type": "code",
   "execution_count": 25,
   "metadata": {},
   "outputs": [
    {
     "name": "stdout",
     "output_type": "stream",
     "text": [
      "  1   2   3   4   5   6   7   8   9  10 \n",
      " 11  12  13  14  15  16  17  18  19  20 \n",
      " 21  22  23  24  25  26  27  28  29  30 \n",
      " 31  32  33  34  35  36  37  38  39  40 \n",
      " 41  42  43  44  45  46  47  48  49  50 \n",
      " 51  52  53  54  55  56  57  58  59  60 \n",
      " 61  62  63  64  65  66  67  68  69  70 \n",
      " 71  72  73  74  75  76  77  78  79  80 \n",
      " 81  82  83  84  85  86  87  88  89  90 \n",
      " 91  92  93  94  95  96  97  98  99 100 \n"
     ]
    }
   ],
   "source": [
    "#1~100 사이의 짝수를 1행에 5개씩 출력\n",
    "#for문 사용\n",
    "\n",
    "for i in range(1,101):\n",
    "    print('{:3d}'.format(i), end = \" \")\n",
    "    if i % 10 == 0:\n",
    "        print()\n",
    "\n"
   ]
  },
  {
   "cell_type": "code",
   "execution_count": null,
   "metadata": {},
   "outputs": [],
   "source": [
    "#프로그램이 시작되면 \"구구단 몇단을 출력할까요?\" 가 출력\n",
    "#사용자는 계산하고자 하는 단을 입력\n",
    "#\"구구단 n단을 출력합니다.\" 와 구구단 출력\n",
    "#사용자가 0을 입력하면 프로그램 종료"
   ]
  },
  {
   "cell_type": "code",
   "execution_count": 27,
   "metadata": {},
   "outputs": [
    {
     "name": "stdout",
     "output_type": "stream",
     "text": [
      "one 문자\n",
      "8 숫자\n",
      "twenty 문자\n",
      "40 숫자\n"
     ]
    }
   ],
   "source": [
    "#(1) 완성하기\n",
    "\n",
    "ages = ['one', 8 , \"twenty\", 40]\n",
    "\n",
    "for age in ages:\n",
    "    if type(age) == int:\n",
    "        print(age, \"숫자\")\n",
    "    else:\n",
    "        print(age, \"문자\")"
   ]
  },
  {
   "cell_type": "code",
   "execution_count": 28,
   "metadata": {},
   "outputs": [
    {
     "name": "stdout",
     "output_type": "stream",
     "text": [
      "test\n",
      "test\n",
      "test\n",
      "test\n",
      "test\n"
     ]
    }
   ],
   "source": [
    "#(2) 완성하기\n",
    "#'test'를 5회 출력하시오\n",
    "\n",
    "test = '5'\n",
    "\n",
    "for i in range(int(test)):\n",
    "    print(\"test\")\n",
    "\n"
   ]
  },
  {
   "cell_type": "code",
   "execution_count": null,
   "metadata": {},
   "outputs": [],
   "source": []
  }
 ],
 "metadata": {
  "kernelspec": {
   "display_name": "Python 3",
   "language": "python",
   "name": "python3"
  },
  "language_info": {
   "codemirror_mode": {
    "name": "ipython",
    "version": 3
   },
   "file_extension": ".py",
   "mimetype": "text/x-python",
   "name": "python",
   "nbconvert_exporter": "python",
   "pygments_lexer": "ipython3",
   "version": "3.12.2"
  }
 },
 "nbformat": 4,
 "nbformat_minor": 2
}
