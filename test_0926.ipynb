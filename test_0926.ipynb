{
 "cells": [
  {
   "cell_type": "code",
   "execution_count": null,
   "metadata": {},
   "outputs": [],
   "source": [
    "#GLOBAL 키워드\n",
    "def func(b):\n",
    "  global a\n",
    "  a = b+10\n",
    "  return a\n",
    "\n",
    "a = 5\n",
    "c = func(3)\n",
    "print(c)\n",
    "print(a)"
   ]
  },
  {
   "cell_type": "code",
   "execution_count": null,
   "metadata": {},
   "outputs": [],
   "source": [
    "def factorial(n):\n",
    "  if n <= 1:  #순환 호출을 멈추는 부분(기본 사례)\n",
    "    return 1\n",
    "\n",
    "  return n * factorial(n-1)\n",
    "\n",
    "print(factorial(3))"
   ]
  },
  {
   "cell_type": "code",
   "execution_count": null,
   "metadata": {},
   "outputs": [],
   "source": [
    "#가변 매개변수\n",
    "def 함수이름(매개변수,매개변수 ..가변 매개변수):\n",
    "  문장"
   ]
  },
  {
   "cell_type": "code",
   "execution_count": null,
   "metadata": {},
   "outputs": [],
   "source": [
    "def print_n_times(n,*values):\n",
    "  #n번 반복합니다.\n",
    "  for i in range(n):\n",
    "    for value in values:\n",
    "      #value는 리스트처럼 활용합니다.\n",
    "      print(value)\n",
    "      #단순한 줄바꿈\n",
    "    print()\n",
    "\n",
    "#함수를 호출합니다.\n",
    "print_n_times(3,\"안녕하세요\",\"즐거운\",\"파이썬\",\"프로그래밍\")"
   ]
  },
  {
   "cell_type": "code",
   "execution_count": null,
   "metadata": {},
   "outputs": [],
   "source": [
    "#함수를 호출합니다.\n",
    "def sum_all(start=0, end=100, step=1):\n",
    "  #변수를 선언합니다.\n",
    "  output = 0\n",
    "  #반복문을 돌려 숫자를 더합니다.\n",
    "  for i in range(start,end + 1, step):\n",
    "    output += i\n",
    "  #리턴합니다.\n",
    "  return output\n",
    "\n",
    "# 함수를 호출합니다.\n",
    "print(\"A\", sum_all(0,100,10))\n",
    "print(\"B\", sum_all(end = 1000))\n",
    "print(\"C\", sum_all(end = 1000,step = 2))"
   ]
  },
  {
   "cell_type": "code",
   "execution_count": null,
   "metadata": {},
   "outputs": [],
   "source": [
    "#아래의 딕셔너리 생성 (단, my_dict 와 날짜 키값 입력 받음)\n",
    "#함수명 : print_value(my_dict, key):\n",
    "#출력 : 리스트\n",
    "my_dict = {\"10/26\" : [100,130,100,100],\"10/27\" : [10,12,10,11]}\n",
    "\n",
    "def print_value_by_key (my_dict,key) :\n",
    "  print(my_dict[key])\n",
    "\n",
    "print_value_by_key (my_dict, \"10/26\")"
   ]
  },
  {
   "cell_type": "code",
   "execution_count": null,
   "metadata": {},
   "outputs": [],
   "source": [
    "#아래의 거래금액의 데이터를 이용하여 수수료 0.014%를 계산하여 한라인에 하나씩 출력\n",
    "\n",
    "data = [\n",
    "    [2000, 3050, 2050, 1980],\n",
    "    [7500, 2050, 2050, 1980],\n",
    "    [15450,15050,15550,14900]\n",
    "]\n",
    "for line in data:\n",
    "  for column in line:\n",
    "      print(column * 1.00014)\n",
    "  print(\"------------\")"
   ]
  },
  {
   "cell_type": "code",
   "execution_count": null,
   "metadata": {},
   "outputs": [],
   "source": [
    "#1차원으로\n",
    "result = []\n",
    "for line in data:\n",
    "  for column in line:\n",
    "    result.append(column * 1.00014)\n",
    "print(result)"
   ]
  },
  {
   "cell_type": "code",
   "execution_count": null,
   "metadata": {},
   "outputs": [],
   "source": [
    "#2차원으로\n",
    "result = []\n",
    "for line in data:\n",
    "  newline = []\n",
    "  for column in line:\n",
    "    newline.append(column * 1.00014)\n",
    "  result.append(newline)\n",
    "print(result)"
   ]
  }
 ],
 "metadata": {
  "language_info": {
   "name": "python"
  }
 },
 "nbformat": 4,
 "nbformat_minor": 2
}
