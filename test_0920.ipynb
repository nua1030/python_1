{
 "cells": [
  {
   "cell_type": "markdown",
   "metadata": {},
   "source": [
    "1번 : 1~ 100까지의 숫자 중 소수만을 출력하시오"
   ]
  },
  {
   "cell_type": "code",
   "execution_count": 2,
   "metadata": {},
   "outputs": [
    {
     "name": "stdout",
     "output_type": "stream",
     "text": [
      "[2, 3, 5, 7, 11, 13, 17, 19, 23, 29, 31, 37, 41, 43, 47, 53, 59, 61, 67, 71, 73, 79, 83, 89, 97]\n"
     ]
    }
   ],
   "source": [
    "#case 1\n",
    "aa_list = []\n",
    "for j in range(1,101):\n",
    "  a = 0\n",
    "  for i in range(1,j+1):\n",
    "    k=j%i #j를 i 나누었을 때\n",
    "    if k == 0:\n",
    "      a=a+1\n",
    "  if a==2:\n",
    "     aa_list.append(j)\n",
    "\n",
    "print(aa_list)"
   ]
  },
  {
   "cell_type": "code",
   "execution_count": 4,
   "metadata": {},
   "outputs": [
    {
     "name": "stdout",
     "output_type": "stream",
     "text": [
      "2 3 5 7 11 13 17 19 23 29 31 37 41 43 47 53 59 61 67 71 73 79 83 89 97 "
     ]
    }
   ],
   "source": [
    "#case 2\n",
    "for i in range(1,101):\n",
    "  for j in range(2,i+1):\n",
    "    if (j == i):\n",
    "      print(i,end=\" \")\n",
    "    elif (i % j ==0):\n",
    "      break"
   ]
  },
  {
   "cell_type": "code",
   "execution_count": 5,
   "metadata": {},
   "outputs": [
    {
     "name": "stdout",
     "output_type": "stream",
     "text": [
      "[2, 3, 5, 7, 11, 13, 17, 19, 23, 29, 31, 37, 41, 43, 47, 53, 59, 61, 67, 71, 73, 79, 83, 89, 97]\n"
     ]
    }
   ],
   "source": [
    "#잘 짠 코드\n",
    "a = []\n",
    "for i in range(2,101):\n",
    "  if not [j for j in a if i % j == 0]:\n",
    "    a.append(i)\n",
    "print(a)"
   ]
  },
  {
   "cell_type": "markdown",
   "metadata": {},
   "source": [
    "2번 : 다음 빈칸을 완성하시오 아래 2차원 리스트를 1차원으로 출력 list_of_list = [[1,2,3].[4,5,6,7],[8,9],]"
   ]
  },
  {
   "cell_type": "code",
   "execution_count": 6,
   "metadata": {},
   "outputs": [
    {
     "name": "stdout",
     "output_type": "stream",
     "text": [
      "1\n",
      "2\n",
      "3\n",
      "4\n",
      "5\n",
      "6\n",
      "7\n",
      "8\n",
      "9\n"
     ]
    }
   ],
   "source": [
    "#nua\n",
    "list_of_list = [ [1, 2, 3], [4, 5, 6, 7], [8, 9],]\n",
    "\n",
    "for line in list_of_list:\n",
    "  for item in line:\n",
    "    print(item)"
   ]
  },
  {
   "cell_type": "markdown",
   "metadata": {},
   "source": [
    "3번 : 1차원 리스트를 2차원으로 출력\n",
    "numbers = [1,2,3,4,5,6,7,8,9]"
   ]
  },
  {
   "cell_type": "code",
   "execution_count": 7,
   "metadata": {},
   "outputs": [
    {
     "name": "stdout",
     "output_type": "stream",
     "text": [
      "[[1, 4, 7], [2, 5, 8], [3, 6, 9]]\n"
     ]
    }
   ],
   "source": [
    "numbers = [1, 2, 3, 4, 5, 6, 7, 8, 9]\n",
    "output = [[], [], []]\n",
    "\n",
    "for number in numbers:\n",
    "  output[(number + 2)%3].append(number)\n",
    "\n",
    "print(output)"
   ]
  },
  {
   "cell_type": "markdown",
   "metadata": {},
   "source": [
    "4번 : 리스트를 이용한 딕셔너리 생성"
   ]
  },
  {
   "cell_type": "code",
   "execution_count": null,
   "metadata": {},
   "outputs": [],
   "source": [
    "key_list = [\"name\", \"hp\", \"mp\", \"level\"]\n",
    "value_list = [\"기사\", 200, 30, 5]\n",
    "character = {}\n",
    "\n",
    "for i in range(0,len(key_list)):\n",
    "  character[key_list[i]] = value_list[i]\n",
    "\n",
    "print(character)"
   ]
  },
  {
   "cell_type": "code",
   "execution_count": null,
   "metadata": {},
   "outputs": [],
   "source": [
    "#잘 짠 코드\n",
    "key_list = [\"name\", \"hp\", \"mp\", \"level\"]\n",
    "value_list = [\"기사\", 200, 30, 5]\n",
    "character = {}\n",
    "character = dict(zip(key_list, value_list))\n",
    "print(character)"
   ]
  }
 ],
 "metadata": {
  "kernelspec": {
   "display_name": "Python 3",
   "language": "python",
   "name": "python3"
  },
  "language_info": {
   "codemirror_mode": {
    "name": "ipython",
    "version": 3
   },
   "file_extension": ".py",
   "mimetype": "text/x-python",
   "name": "python",
   "nbconvert_exporter": "python",
   "pygments_lexer": "ipython3",
   "version": "3.12.2"
  }
 },
 "nbformat": 4,
 "nbformat_minor": 2
}
